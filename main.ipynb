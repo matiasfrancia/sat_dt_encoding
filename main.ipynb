{
 "cells": [
  {
   "cell_type": "code",
   "execution_count": 1,
   "metadata": {},
   "outputs": [
    {
     "name": "stdout",
     "output_type": "stream",
     "text": [
      "Traceback (most recent call last):\n",
      "  File \"learning_dt_with_sat.py\", line 6, in <module>\n",
      "    from utils.constants import *\n",
      "ModuleNotFoundError: No module named 'utils.constants'\n"
     ]
    }
   ],
   "source": [
    "!python learning_dt_with_sat.py \\\n",
    "    --n_learners 1 \\\n",
    "    --train_ratio 1.0 \\\n",
    "    --seed 2019 \\\n",
    "    --size 5 \\\n",
    "    --data_file benchmarks/orig_paper_example.txt \\\n",
    "    --separator \" \""
   ]
  },
  {
   "cell_type": "code",
   "execution_count": null,
   "metadata": {},
   "outputs": [],
   "source": []
  },
  {
   "cell_type": "code",
   "execution_count": null,
   "metadata": {},
   "outputs": [],
   "source": []
  }
 ],
 "metadata": {
  "kernelspec": {
   "display_name": ".logic",
   "language": "python",
   "name": "python3"
  },
  "language_info": {
   "codemirror_mode": {
    "name": "ipython",
    "version": 3
   },
   "file_extension": ".py",
   "mimetype": "text/x-python",
   "name": "python",
   "nbconvert_exporter": "python",
   "pygments_lexer": "ipython3",
   "version": "3.7.7"
  }
 },
 "nbformat": 4,
 "nbformat_minor": 2
}
